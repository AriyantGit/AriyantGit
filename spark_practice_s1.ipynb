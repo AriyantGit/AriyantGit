{
  "nbformat": 4,
  "nbformat_minor": 0,
  "metadata": {
    "colab": {
      "provenance": [],
      "authorship_tag": "ABX9TyNzBRYXjcMCEVH2DuLaY5ss",
      "include_colab_link": true
    },
    "kernelspec": {
      "name": "python3",
      "display_name": "Python 3"
    },
    "language_info": {
      "name": "python"
    }
  },
  "cells": [
    {
      "cell_type": "markdown",
      "metadata": {
        "id": "view-in-github",
        "colab_type": "text"
      },
      "source": [
        "<a href=\"https://colab.research.google.com/github/AriyantGit/AriyantGit/blob/main/spark_practice_s1.ipynb\" target=\"_parent\"><img src=\"https://colab.research.google.com/assets/colab-badge.svg\" alt=\"Open In Colab\"/></a>"
      ]
    },
    {
      "cell_type": "code",
      "execution_count": 2,
      "metadata": {
        "colab": {
          "base_uri": "https://localhost:8080/",
          "height": 219
        },
        "id": "UkCrMqEVCLe7",
        "outputId": "71b491c2-5089-4a0d-f17e-3f4cc2bf1467"
      },
      "outputs": [
        {
          "output_type": "execute_result",
          "data": {
            "text/plain": [
              "<pyspark.sql.session.SparkSession at 0x7dc817d2c190>"
            ],
            "text/html": [
              "\n",
              "            <div>\n",
              "                <p><b>SparkSession - in-memory</b></p>\n",
              "                \n",
              "        <div>\n",
              "            <p><b>SparkContext</b></p>\n",
              "\n",
              "            <p><a href=\"http://f93f8a67491e:4040\">Spark UI</a></p>\n",
              "\n",
              "            <dl>\n",
              "              <dt>Version</dt>\n",
              "                <dd><code>v3.5.1</code></dd>\n",
              "              <dt>Master</dt>\n",
              "                <dd><code>local[*]</code></dd>\n",
              "              <dt>AppName</dt>\n",
              "                <dd><code>Basic Transformation - I</code></dd>\n",
              "            </dl>\n",
              "        </div>\n",
              "        \n",
              "            </div>\n",
              "        "
            ]
          },
          "metadata": {},
          "execution_count": 2
        }
      ],
      "source": [
        "from pyspark.sql import SparkSession\n",
        "\n",
        "spark = (\n",
        "    SparkSession\n",
        "    .builder\n",
        "    .appName(\"Basic Transformation - I\")\n",
        "    .master(\"local[*]\")\n",
        "    .getOrCreate()\n",
        ")\n",
        "\n",
        "spark"
      ]
    },
    {
      "cell_type": "code",
      "source": [
        "emp_data = [\n",
        "    [\"001\",\"101\",\"John Doe\",\"30\",\"Male\",\"50000\",\"2015-01-01\"],\n",
        "    [\"002\",\"101\",\"Jane Smith\",\"25\",\"Female\",\"45000\",\"2016-02-15\"],\n",
        "    [\"003\",\"102\",\"Bob Brown\",\"35\",\"Male\",\"55000\",\"2014-05-01\"],\n",
        "    [\"004\",\"102\",\"Alice Lee\",\"28\",\"Female\",\"48000\",\"2017-09-30\"],\n",
        "    [\"005\",\"103\",\"Jack Chan\",\"40\",\"Male\",\"60000\",\"2013-04-01\"],\n",
        "    [\"006\",\"103\",\"Jill Wong\",\"32\",\"Female\",\"52000\",\"2018-07-01\"],\n",
        "    [\"007\",\"101\",\"James Johnson\",\"42\",\"Male\",\"70000\",\"2012-03-15\"],\n",
        "    [\"008\",\"102\",\"Kate Kim\",\"29\",\"Female\",\"51000\",\"2019-10-01\"],\n",
        "    [\"009\",\"103\",\"Tom Tan\",\"33\",\"Male\",\"58000\",\"2016-06-01\"],\n",
        "    [\"010\",\"104\",\"Lisa Lee\",\"27\",\"Female\",\"47000\",\"2018-08-01\"],\n",
        "    [\"011\",\"104\",\"David Park\",\"38\",\"Male\",\"65000\",\"2015-11-01\"],\n",
        "    [\"012\",\"105\",\"Susan Chen\",\"31\",\"Female\",\"54000\",\"2017-02-15\"],\n",
        "    [\"013\",\"106\",\"Brian Kim\",\"45\",\"Male\",\"75000\",\"2011-07-01\"],\n",
        "    [\"014\",\"107\",\"Emily Lee\",\"26\",\"Female\",\"46000\",\"2019-01-01\"],\n",
        "    [\"015\",\"106\",\"Michael Lee\",\"37\",\"Male\",\"63000\",\"2014-09-30\"],\n",
        "    [\"016\",\"107\",\"Kelly Zhang\",\"30\",\"Female\",\"49000\",\"2018-04-01\"],\n",
        "    [\"017\",\"105\",\"George Wang\",\"34\",\"Male\",\"57000\",\"2016-03-15\"],\n",
        "    [\"018\",\"104\",\"Nancy Liu\",\"29\",\"Female\",\"50000\",\"2017-06-01\"],\n",
        "    [\"019\",\"103\",\"Steven Chen\",\"36\",\"Male\",\"62000\",\"2015-08-01\"],\n",
        "    [\"020\",\"102\",\"Grace Kim\",\"32\",\"Female\",\"53000\",\"2018-11-01\"]\n",
        "]\n",
        "\n",
        "emp_schema = \"employee_id string, department_id string, name string, age string, gender string, salary string, hire_date string\""
      ],
      "metadata": {
        "id": "BBtLtyAwDQ0y"
      },
      "execution_count": 3,
      "outputs": []
    },
    {
      "cell_type": "code",
      "source": [
        "emp = spark.createDataFrame(data=emp_data, schema=emp_schema)"
      ],
      "metadata": {
        "id": "oYyUrbgpDd4z"
      },
      "execution_count": 4,
      "outputs": []
    },
    {
      "cell_type": "code",
      "source": [
        "emp.show()"
      ],
      "metadata": {
        "colab": {
          "base_uri": "https://localhost:8080/"
        },
        "id": "Q3WVMGCaDtIM",
        "outputId": "00e4224d-07e8-46cf-a95d-f422e6141122"
      },
      "execution_count": 5,
      "outputs": [
        {
          "output_type": "stream",
          "name": "stdout",
          "text": [
            "+-----------+-------------+-------------+---+------+------+----------+\n",
            "|employee_id|department_id|         name|age|gender|salary| hire_date|\n",
            "+-----------+-------------+-------------+---+------+------+----------+\n",
            "|        001|          101|     John Doe| 30|  Male| 50000|2015-01-01|\n",
            "|        002|          101|   Jane Smith| 25|Female| 45000|2016-02-15|\n",
            "|        003|          102|    Bob Brown| 35|  Male| 55000|2014-05-01|\n",
            "|        004|          102|    Alice Lee| 28|Female| 48000|2017-09-30|\n",
            "|        005|          103|    Jack Chan| 40|  Male| 60000|2013-04-01|\n",
            "|        006|          103|    Jill Wong| 32|Female| 52000|2018-07-01|\n",
            "|        007|          101|James Johnson| 42|  Male| 70000|2012-03-15|\n",
            "|        008|          102|     Kate Kim| 29|Female| 51000|2019-10-01|\n",
            "|        009|          103|      Tom Tan| 33|  Male| 58000|2016-06-01|\n",
            "|        010|          104|     Lisa Lee| 27|Female| 47000|2018-08-01|\n",
            "|        011|          104|   David Park| 38|  Male| 65000|2015-11-01|\n",
            "|        012|          105|   Susan Chen| 31|Female| 54000|2017-02-15|\n",
            "|        013|          106|    Brian Kim| 45|  Male| 75000|2011-07-01|\n",
            "|        014|          107|    Emily Lee| 26|Female| 46000|2019-01-01|\n",
            "|        015|          106|  Michael Lee| 37|  Male| 63000|2014-09-30|\n",
            "|        016|          107|  Kelly Zhang| 30|Female| 49000|2018-04-01|\n",
            "|        017|          105|  George Wang| 34|  Male| 57000|2016-03-15|\n",
            "|        018|          104|    Nancy Liu| 29|Female| 50000|2017-06-01|\n",
            "|        019|          103|  Steven Chen| 36|  Male| 62000|2015-08-01|\n",
            "|        020|          102|    Grace Kim| 32|Female| 53000|2018-11-01|\n",
            "+-----------+-------------+-------------+---+------+------+----------+\n",
            "\n"
          ]
        }
      ]
    },
    {
      "cell_type": "code",
      "source": [
        "emp_salary = emp.where(\"salary>50000\")"
      ],
      "metadata": {
        "id": "0tpJ73OXDyYj"
      },
      "execution_count": 6,
      "outputs": []
    },
    {
      "cell_type": "code",
      "source": [
        "emp_salary.show()"
      ],
      "metadata": {
        "colab": {
          "base_uri": "https://localhost:8080/"
        },
        "id": "wWpW--MZEb2d",
        "outputId": "ef22b8e9-e5aa-42cc-b465-a021921f5459"
      },
      "execution_count": 7,
      "outputs": [
        {
          "output_type": "stream",
          "name": "stdout",
          "text": [
            "+-----------+-------------+-------------+---+------+------+----------+\n",
            "|employee_id|department_id|         name|age|gender|salary| hire_date|\n",
            "+-----------+-------------+-------------+---+------+------+----------+\n",
            "|        003|          102|    Bob Brown| 35|  Male| 55000|2014-05-01|\n",
            "|        005|          103|    Jack Chan| 40|  Male| 60000|2013-04-01|\n",
            "|        006|          103|    Jill Wong| 32|Female| 52000|2018-07-01|\n",
            "|        007|          101|James Johnson| 42|  Male| 70000|2012-03-15|\n",
            "|        008|          102|     Kate Kim| 29|Female| 51000|2019-10-01|\n",
            "|        009|          103|      Tom Tan| 33|  Male| 58000|2016-06-01|\n",
            "|        011|          104|   David Park| 38|  Male| 65000|2015-11-01|\n",
            "|        012|          105|   Susan Chen| 31|Female| 54000|2017-02-15|\n",
            "|        013|          106|    Brian Kim| 45|  Male| 75000|2011-07-01|\n",
            "|        015|          106|  Michael Lee| 37|  Male| 63000|2014-09-30|\n",
            "|        017|          105|  George Wang| 34|  Male| 57000|2016-03-15|\n",
            "|        019|          103|  Steven Chen| 36|  Male| 62000|2015-08-01|\n",
            "|        020|          102|    Grace Kim| 32|Female| 53000|2018-11-01|\n",
            "+-----------+-------------+-------------+---+------+------+----------+\n",
            "\n"
          ]
        }
      ]
    },
    {
      "cell_type": "code",
      "source": [
        "emp_salary.rdd.getNumPartitions()"
      ],
      "metadata": {
        "colab": {
          "base_uri": "https://localhost:8080/"
        },
        "id": "r-XWjrrPEd3D",
        "outputId": "5e4cf938-ac0c-4163-ade8-d60c58a30fd6"
      },
      "execution_count": 8,
      "outputs": [
        {
          "output_type": "execute_result",
          "data": {
            "text/plain": [
              "2"
            ]
          },
          "metadata": {},
          "execution_count": 8
        }
      ]
    },
    {
      "cell_type": "code",
      "source": [
        "emp_salary.write.format(\"csv\").save(\"data/save/emp_salary.csv\")"
      ],
      "metadata": {
        "id": "qhHn7ssVEnTM"
      },
      "execution_count": 9,
      "outputs": []
    },
    {
      "cell_type": "code",
      "source": [
        "emp_salary.printSchema()"
      ],
      "metadata": {
        "colab": {
          "base_uri": "https://localhost:8080/"
        },
        "id": "Qq2k14N8Fl2T",
        "outputId": "b186dd09-74a2-4dc0-91ee-681c19ebb7db"
      },
      "execution_count": 10,
      "outputs": [
        {
          "output_type": "stream",
          "name": "stdout",
          "text": [
            "root\n",
            " |-- employee_id: string (nullable = true)\n",
            " |-- department_id: string (nullable = true)\n",
            " |-- name: string (nullable = true)\n",
            " |-- age: string (nullable = true)\n",
            " |-- gender: string (nullable = true)\n",
            " |-- salary: string (nullable = true)\n",
            " |-- hire_date: string (nullable = true)\n",
            "\n"
          ]
        }
      ]
    },
    {
      "cell_type": "code",
      "source": [
        "from pyspark.sql.functions import col,cast"
      ],
      "metadata": {
        "id": "dL-Z3RELGHrV"
      },
      "execution_count": 11,
      "outputs": []
    },
    {
      "cell_type": "code",
      "source": [
        "emp_casted = emp.select(\"employee_id\",\"name\",col(\"age\").alias(\"age\").cast(\"int\"),\"gender\",col(\"salary\").cast(\"double\"),\"hire_date\")"
      ],
      "metadata": {
        "id": "4msoI8hGGTG4"
      },
      "execution_count": 12,
      "outputs": []
    },
    {
      "cell_type": "code",
      "source": [
        "emp_casted.printSchema()"
      ],
      "metadata": {
        "id": "9On_LiDFHN_X",
        "outputId": "f1ff0594-2bda-43bd-c9b4-d376311f0f70",
        "colab": {
          "base_uri": "https://localhost:8080/"
        }
      },
      "execution_count": 13,
      "outputs": [
        {
          "output_type": "stream",
          "name": "stdout",
          "text": [
            "root\n",
            " |-- employee_id: string (nullable = true)\n",
            " |-- name: string (nullable = true)\n",
            " |-- age: integer (nullable = true)\n",
            " |-- gender: string (nullable = true)\n",
            " |-- salary: double (nullable = true)\n",
            " |-- hire_date: string (nullable = true)\n",
            "\n"
          ]
        }
      ]
    },
    {
      "cell_type": "code",
      "source": [
        "filter_col = emp.selectExpr(\"employee_id as emp_id\",\"name\",\"cast(age as int)\",\"gender\",\"cast(salary as double)\",\"hire_date\")"
      ],
      "metadata": {
        "id": "KSOw9wHuHRDx"
      },
      "execution_count": 23,
      "outputs": []
    },
    {
      "cell_type": "code",
      "source": [
        "filter_col.show()"
      ],
      "metadata": {
        "colab": {
          "base_uri": "https://localhost:8080/"
        },
        "id": "NcpdR2kP0lh4",
        "outputId": "dc81a8d9-8d5d-45d8-e8f9-ddb3a47bd5c1"
      },
      "execution_count": 24,
      "outputs": [
        {
          "output_type": "stream",
          "name": "stdout",
          "text": [
            "+------+-------------+---+------+-------+----------+\n",
            "|emp_id|         name|age|gender| salary| hire_date|\n",
            "+------+-------------+---+------+-------+----------+\n",
            "|   001|     John Doe| 30|  Male|50000.0|2015-01-01|\n",
            "|   002|   Jane Smith| 25|Female|45000.0|2016-02-15|\n",
            "|   003|    Bob Brown| 35|  Male|55000.0|2014-05-01|\n",
            "|   004|    Alice Lee| 28|Female|48000.0|2017-09-30|\n",
            "|   005|    Jack Chan| 40|  Male|60000.0|2013-04-01|\n",
            "|   006|    Jill Wong| 32|Female|52000.0|2018-07-01|\n",
            "|   007|James Johnson| 42|  Male|70000.0|2012-03-15|\n",
            "|   008|     Kate Kim| 29|Female|51000.0|2019-10-01|\n",
            "|   009|      Tom Tan| 33|  Male|58000.0|2016-06-01|\n",
            "|   010|     Lisa Lee| 27|Female|47000.0|2018-08-01|\n",
            "|   011|   David Park| 38|  Male|65000.0|2015-11-01|\n",
            "|   012|   Susan Chen| 31|Female|54000.0|2017-02-15|\n",
            "|   013|    Brian Kim| 45|  Male|75000.0|2011-07-01|\n",
            "|   014|    Emily Lee| 26|Female|46000.0|2019-01-01|\n",
            "|   015|  Michael Lee| 37|  Male|63000.0|2014-09-30|\n",
            "|   016|  Kelly Zhang| 30|Female|49000.0|2018-04-01|\n",
            "|   017|  George Wang| 34|  Male|57000.0|2016-03-15|\n",
            "|   018|    Nancy Liu| 29|Female|50000.0|2017-06-01|\n",
            "|   019|  Steven Chen| 36|  Male|62000.0|2015-08-01|\n",
            "|   020|    Grace Kim| 32|Female|53000.0|2018-11-01|\n",
            "+------+-------------+---+------+-------+----------+\n",
            "\n"
          ]
        }
      ]
    },
    {
      "cell_type": "code",
      "source": [
        "filter_col.printSchema()"
      ],
      "metadata": {
        "colab": {
          "base_uri": "https://localhost:8080/"
        },
        "id": "niKsi3yE0oOv",
        "outputId": "c52b33fe-3b19-4fcf-c7ab-30773884ef3b"
      },
      "execution_count": 22,
      "outputs": [
        {
          "output_type": "stream",
          "name": "stdout",
          "text": [
            "root\n",
            " |-- emp_id: string (nullable = true)\n",
            " |-- name: string (nullable = true)\n",
            " |-- age: string (nullable = true)\n",
            " |-- gender: string (nullable = true)\n",
            " |-- salary: double (nullable = true)\n",
            " |-- hire_date: string (nullable = true)\n",
            "\n"
          ]
        }
      ]
    },
    {
      "cell_type": "code",
      "source": [
        "filter_col.select(\"emp_id\",\"name\",\"age\",\"salary\").where(\"age>30\").show()"
      ],
      "metadata": {
        "colab": {
          "base_uri": "https://localhost:8080/"
        },
        "id": "rEwMsnuX1a-v",
        "outputId": "26df831b-2330-4d23-e947-e3c3bb2d9245"
      },
      "execution_count": 25,
      "outputs": [
        {
          "output_type": "stream",
          "name": "stdout",
          "text": [
            "+------+-------------+---+-------+\n",
            "|emp_id|         name|age| salary|\n",
            "+------+-------------+---+-------+\n",
            "|   003|    Bob Brown| 35|55000.0|\n",
            "|   005|    Jack Chan| 40|60000.0|\n",
            "|   006|    Jill Wong| 32|52000.0|\n",
            "|   007|James Johnson| 42|70000.0|\n",
            "|   009|      Tom Tan| 33|58000.0|\n",
            "|   011|   David Park| 38|65000.0|\n",
            "|   012|   Susan Chen| 31|54000.0|\n",
            "|   013|    Brian Kim| 45|75000.0|\n",
            "|   015|  Michael Lee| 37|63000.0|\n",
            "|   017|  George Wang| 34|57000.0|\n",
            "|   019|  Steven Chen| 36|62000.0|\n",
            "|   020|    Grace Kim| 32|53000.0|\n",
            "+------+-------------+---+-------+\n",
            "\n"
          ]
        }
      ]
    },
    {
      "cell_type": "code",
      "source": [
        "filter_col"
      ],
      "metadata": {
        "colab": {
          "base_uri": "https://localhost:8080/"
        },
        "id": "drpMsi312f46",
        "outputId": "dcdf32e4-d597-458b-dbf3-a34271a16ec1"
      },
      "execution_count": 26,
      "outputs": [
        {
          "output_type": "execute_result",
          "data": {
            "text/plain": [
              "DataFrame[emp_id: string, name: string, age: int, gender: string, salary: double, hire_date: string]"
            ]
          },
          "metadata": {},
          "execution_count": 26
        }
      ]
    },
    {
      "cell_type": "code",
      "source": [
        "##ADD NEW COLUM TO DATAFRAME"
      ],
      "metadata": {
        "id": "ely52mWG3NdN"
      },
      "execution_count": 27,
      "outputs": []
    },
    {
      "cell_type": "code",
      "source": [
        "from pyspark.sql.functions import round,when\n",
        "emp_taxed=filter_col.select(\"emp_id\",\"name\",\"age\",\"salary\").where(\"salary>10000\").withColumn(\"tax_ammount\",round(col(\"salary\")*.14,2).cast(\"int\")).withColumn(\"gross_Salary\",col(\"salary\") - col(\"tax_ammount\"))"
      ],
      "metadata": {
        "id": "WF5ezm1y4Lwi"
      },
      "execution_count": 60,
      "outputs": []
    },
    {
      "cell_type": "code",
      "source": [
        "emp_taxed.show()"
      ],
      "metadata": {
        "colab": {
          "base_uri": "https://localhost:8080/"
        },
        "id": "wvU5tXyi4wBD",
        "outputId": "dd7cf563-afee-4c69-ce1f-f7c922cc229c"
      },
      "execution_count": 61,
      "outputs": [
        {
          "output_type": "stream",
          "name": "stdout",
          "text": [
            "+------+-------------+---+-------+-----------+------------+\n",
            "|emp_id|         name|age| salary|tax_ammount|gross_Salary|\n",
            "+------+-------------+---+-------+-----------+------------+\n",
            "|   001|     John Doe| 30|50000.0|       7000|     43000.0|\n",
            "|   002|   Jane Smith| 25|45000.0|       6300|     38700.0|\n",
            "|   003|    Bob Brown| 35|55000.0|       7700|     47300.0|\n",
            "|   004|    Alice Lee| 28|48000.0|       6720|     41280.0|\n",
            "|   005|    Jack Chan| 40|60000.0|       8400|     51600.0|\n",
            "|   006|    Jill Wong| 32|52000.0|       7280|     44720.0|\n",
            "|   007|James Johnson| 42|70000.0|       9800|     60200.0|\n",
            "|   008|     Kate Kim| 29|51000.0|       7140|     43860.0|\n",
            "|   009|      Tom Tan| 33|58000.0|       8120|     49880.0|\n",
            "|   010|     Lisa Lee| 27|47000.0|       6580|     40420.0|\n",
            "|   011|   David Park| 38|65000.0|       9100|     55900.0|\n",
            "|   012|   Susan Chen| 31|54000.0|       7560|     46440.0|\n",
            "|   013|    Brian Kim| 45|75000.0|      10500|     64500.0|\n",
            "|   014|    Emily Lee| 26|46000.0|       6440|     39560.0|\n",
            "|   015|  Michael Lee| 37|63000.0|       8820|     54180.0|\n",
            "|   016|  Kelly Zhang| 30|49000.0|       6860|     42140.0|\n",
            "|   017|  George Wang| 34|57000.0|       7980|     49020.0|\n",
            "|   018|    Nancy Liu| 29|50000.0|       7000|     43000.0|\n",
            "|   019|  Steven Chen| 36|62000.0|       8680|     53320.0|\n",
            "|   020|    Grace Kim| 32|53000.0|       7420|     45580.0|\n",
            "+------+-------------+---+-------+-----------+------------+\n",
            "\n"
          ]
        }
      ]
    },
    {
      "cell_type": "code",
      "source": [
        "all_emp_taxed=filter_col.select(\"emp_id\",\"name\",\"age\",\"salary\").withColumn(\"tax_ammount\",when((col(\"salary\")>=50000) & (col(\"salary\")<=60000),round(col(\"salary\")*.14,2).cast(\"int\")).when(col(\"salary\")>60000,round(col(\"salary\")*.16,2)).otherwise(0)).withColumn(\"gross_Salary\",col(\"salary\") - col(\"tax_ammount\"))"
      ],
      "metadata": {
        "id": "CHutBr4L404u"
      },
      "execution_count": 118,
      "outputs": []
    },
    {
      "cell_type": "code",
      "source": [
        "all_emp_taxed.show()"
      ],
      "metadata": {
        "colab": {
          "base_uri": "https://localhost:8080/"
        },
        "id": "fYtsxv6r70mz",
        "outputId": "e90f7d16-9f67-4380-99a9-1ca6c7ec29f2"
      },
      "execution_count": 73,
      "outputs": [
        {
          "output_type": "stream",
          "name": "stdout",
          "text": [
            "+------+-------------+---+-------+-----------+------------+\n",
            "|emp_id|         name|age| salary|tax_ammount|gross_Salary|\n",
            "+------+-------------+---+-------+-----------+------------+\n",
            "|   001|     John Doe| 30|50000.0|     7000.0|     43000.0|\n",
            "|   002|   Jane Smith| 25|45000.0|        0.0|     45000.0|\n",
            "|   003|    Bob Brown| 35|55000.0|     7700.0|     47300.0|\n",
            "|   004|    Alice Lee| 28|48000.0|        0.0|     48000.0|\n",
            "|   005|    Jack Chan| 40|60000.0|     8400.0|     51600.0|\n",
            "|   006|    Jill Wong| 32|52000.0|     7280.0|     44720.0|\n",
            "|   007|James Johnson| 42|70000.0|    11200.0|     58800.0|\n",
            "|   008|     Kate Kim| 29|51000.0|     7140.0|     43860.0|\n",
            "|   009|      Tom Tan| 33|58000.0|     8120.0|     49880.0|\n",
            "|   010|     Lisa Lee| 27|47000.0|        0.0|     47000.0|\n",
            "|   011|   David Park| 38|65000.0|    10400.0|     54600.0|\n",
            "|   012|   Susan Chen| 31|54000.0|     7560.0|     46440.0|\n",
            "|   013|    Brian Kim| 45|75000.0|    12000.0|     63000.0|\n",
            "|   014|    Emily Lee| 26|46000.0|        0.0|     46000.0|\n",
            "|   015|  Michael Lee| 37|63000.0|    10080.0|     52920.0|\n",
            "|   016|  Kelly Zhang| 30|49000.0|        0.0|     49000.0|\n",
            "|   017|  George Wang| 34|57000.0|     7980.0|     49020.0|\n",
            "|   018|    Nancy Liu| 29|50000.0|     7000.0|     43000.0|\n",
            "|   019|  Steven Chen| 36|62000.0|     9920.0|     52080.0|\n",
            "|   020|    Grace Kim| 32|53000.0|     7420.0|     45580.0|\n",
            "+------+-------------+---+-------+-----------+------------+\n",
            "\n"
          ]
        }
      ]
    },
    {
      "cell_type": "code",
      "source": [
        "###Add a static value to a dataframe\n",
        "from pyspark.sql.functions import lit\n",
        "all_emp = all_emp_taxed.withColumn(\"active\",lit(True))"
      ],
      "metadata": {
        "id": "6U0StRPV7619"
      },
      "execution_count": 81,
      "outputs": []
    },
    {
      "cell_type": "code",
      "source": [
        "all_emp.show()"
      ],
      "metadata": {
        "colab": {
          "base_uri": "https://localhost:8080/"
        },
        "id": "GB8He7WL-ih7",
        "outputId": "4d8db1cf-1dca-4569-ff6e-7d597b937fde"
      },
      "execution_count": 82,
      "outputs": [
        {
          "output_type": "stream",
          "name": "stdout",
          "text": [
            "+------+-------------+---+-------+-----------+------------+------+\n",
            "|emp_id|         name|age| salary|tax_ammount|gross_Salary|active|\n",
            "+------+-------------+---+-------+-----------+------------+------+\n",
            "|   001|     John Doe| 30|50000.0|     7000.0|     43000.0|  true|\n",
            "|   002|   Jane Smith| 25|45000.0|        0.0|     45000.0|  true|\n",
            "|   003|    Bob Brown| 35|55000.0|     7700.0|     47300.0|  true|\n",
            "|   004|    Alice Lee| 28|48000.0|        0.0|     48000.0|  true|\n",
            "|   005|    Jack Chan| 40|60000.0|     8400.0|     51600.0|  true|\n",
            "|   006|    Jill Wong| 32|52000.0|     7280.0|     44720.0|  true|\n",
            "|   007|James Johnson| 42|70000.0|    11200.0|     58800.0|  true|\n",
            "|   008|     Kate Kim| 29|51000.0|     7140.0|     43860.0|  true|\n",
            "|   009|      Tom Tan| 33|58000.0|     8120.0|     49880.0|  true|\n",
            "|   010|     Lisa Lee| 27|47000.0|        0.0|     47000.0|  true|\n",
            "|   011|   David Park| 38|65000.0|    10400.0|     54600.0|  true|\n",
            "|   012|   Susan Chen| 31|54000.0|     7560.0|     46440.0|  true|\n",
            "|   013|    Brian Kim| 45|75000.0|    12000.0|     63000.0|  true|\n",
            "|   014|    Emily Lee| 26|46000.0|        0.0|     46000.0|  true|\n",
            "|   015|  Michael Lee| 37|63000.0|    10080.0|     52920.0|  true|\n",
            "|   016|  Kelly Zhang| 30|49000.0|        0.0|     49000.0|  true|\n",
            "|   017|  George Wang| 34|57000.0|     7980.0|     49020.0|  true|\n",
            "|   018|    Nancy Liu| 29|50000.0|     7000.0|     43000.0|  true|\n",
            "|   019|  Steven Chen| 36|62000.0|     9920.0|     52080.0|  true|\n",
            "|   020|    Grace Kim| 32|53000.0|     7420.0|     45580.0|  true|\n",
            "+------+-------------+---+-------+-----------+------------+------+\n",
            "\n"
          ]
        }
      ]
    },
    {
      "cell_type": "code",
      "source": [
        "###Add gender column randomly in dataframe"
      ],
      "metadata": {
        "id": "xxjf1Rgm-lRh"
      },
      "execution_count": 83,
      "outputs": []
    },
    {
      "cell_type": "code",
      "source": [
        "from pyspark.sql.functions import rand\n",
        "all_emp = all_emp.withColumn(\"gender\",when(rand()>.5,\"Male\").otherwise(\"Female\"))"
      ],
      "metadata": {
        "id": "AUKBvT0i-5d3"
      },
      "execution_count": 84,
      "outputs": []
    },
    {
      "cell_type": "code",
      "source": [
        "all_emp.show()"
      ],
      "metadata": {
        "colab": {
          "base_uri": "https://localhost:8080/"
        },
        "id": "JqrfAkUn_Aag",
        "outputId": "7c991a43-5c3b-487e-a020-33d65ce3510a"
      },
      "execution_count": 85,
      "outputs": [
        {
          "output_type": "stream",
          "name": "stdout",
          "text": [
            "+------+-------------+---+-------+-----------+------------+------+------+\n",
            "|emp_id|         name|age| salary|tax_ammount|gross_Salary|active|gender|\n",
            "+------+-------------+---+-------+-----------+------------+------+------+\n",
            "|   001|     John Doe| 30|50000.0|     7000.0|     43000.0|  true|  Male|\n",
            "|   002|   Jane Smith| 25|45000.0|        0.0|     45000.0|  true|  Male|\n",
            "|   003|    Bob Brown| 35|55000.0|     7700.0|     47300.0|  true|Female|\n",
            "|   004|    Alice Lee| 28|48000.0|        0.0|     48000.0|  true|  Male|\n",
            "|   005|    Jack Chan| 40|60000.0|     8400.0|     51600.0|  true|  Male|\n",
            "|   006|    Jill Wong| 32|52000.0|     7280.0|     44720.0|  true|Female|\n",
            "|   007|James Johnson| 42|70000.0|    11200.0|     58800.0|  true|Female|\n",
            "|   008|     Kate Kim| 29|51000.0|     7140.0|     43860.0|  true|  Male|\n",
            "|   009|      Tom Tan| 33|58000.0|     8120.0|     49880.0|  true|  Male|\n",
            "|   010|     Lisa Lee| 27|47000.0|        0.0|     47000.0|  true|Female|\n",
            "|   011|   David Park| 38|65000.0|    10400.0|     54600.0|  true|  Male|\n",
            "|   012|   Susan Chen| 31|54000.0|     7560.0|     46440.0|  true|  Male|\n",
            "|   013|    Brian Kim| 45|75000.0|    12000.0|     63000.0|  true|Female|\n",
            "|   014|    Emily Lee| 26|46000.0|        0.0|     46000.0|  true|Female|\n",
            "|   015|  Michael Lee| 37|63000.0|    10080.0|     52920.0|  true|Female|\n",
            "|   016|  Kelly Zhang| 30|49000.0|        0.0|     49000.0|  true|  Male|\n",
            "|   017|  George Wang| 34|57000.0|     7980.0|     49020.0|  true|  Male|\n",
            "|   018|    Nancy Liu| 29|50000.0|     7000.0|     43000.0|  true|Female|\n",
            "|   019|  Steven Chen| 36|62000.0|     9920.0|     52080.0|  true|Female|\n",
            "|   020|    Grace Kim| 32|53000.0|     7420.0|     45580.0|  true|  Male|\n",
            "+------+-------------+---+-------+-----------+------------+------+------+\n",
            "\n"
          ]
        }
      ]
    },
    {
      "cell_type": "code",
      "source": [
        "#Rename column\n",
        "all_emp = all_emp.withColumnRenamed(\"name\",\"emp_name\")"
      ],
      "metadata": {
        "id": "gaE4XS30_CyT"
      },
      "execution_count": 89,
      "outputs": []
    },
    {
      "cell_type": "code",
      "source": [
        "all_emp.show()"
      ],
      "metadata": {
        "colab": {
          "base_uri": "https://localhost:8080/"
        },
        "id": "FfrCChra_f8e",
        "outputId": "81f8e283-c055-41d8-a2b2-e147d64cfcff"
      },
      "execution_count": 90,
      "outputs": [
        {
          "output_type": "stream",
          "name": "stdout",
          "text": [
            "+------+-------------+---+-------+-----------+------------+------+------+\n",
            "|emp_id|     emp_name|age| salary|tax_ammount|gross_Salary|active|gender|\n",
            "+------+-------------+---+-------+-----------+------------+------+------+\n",
            "|   001|     John Doe| 30|50000.0|     7000.0|     43000.0|  true|  Male|\n",
            "|   002|   Jane Smith| 25|45000.0|        0.0|     45000.0|  true|  Male|\n",
            "|   003|    Bob Brown| 35|55000.0|     7700.0|     47300.0|  true|Female|\n",
            "|   004|    Alice Lee| 28|48000.0|        0.0|     48000.0|  true|  Male|\n",
            "|   005|    Jack Chan| 40|60000.0|     8400.0|     51600.0|  true|  Male|\n",
            "|   006|    Jill Wong| 32|52000.0|     7280.0|     44720.0|  true|Female|\n",
            "|   007|James Johnson| 42|70000.0|    11200.0|     58800.0|  true|Female|\n",
            "|   008|     Kate Kim| 29|51000.0|     7140.0|     43860.0|  true|  Male|\n",
            "|   009|      Tom Tan| 33|58000.0|     8120.0|     49880.0|  true|  Male|\n",
            "|   010|     Lisa Lee| 27|47000.0|        0.0|     47000.0|  true|Female|\n",
            "|   011|   David Park| 38|65000.0|    10400.0|     54600.0|  true|  Male|\n",
            "|   012|   Susan Chen| 31|54000.0|     7560.0|     46440.0|  true|  Male|\n",
            "|   013|    Brian Kim| 45|75000.0|    12000.0|     63000.0|  true|Female|\n",
            "|   014|    Emily Lee| 26|46000.0|        0.0|     46000.0|  true|Female|\n",
            "|   015|  Michael Lee| 37|63000.0|    10080.0|     52920.0|  true|Female|\n",
            "|   016|  Kelly Zhang| 30|49000.0|        0.0|     49000.0|  true|  Male|\n",
            "|   017|  George Wang| 34|57000.0|     7980.0|     49020.0|  true|  Male|\n",
            "|   018|    Nancy Liu| 29|50000.0|     7000.0|     43000.0|  true|Female|\n",
            "|   019|  Steven Chen| 36|62000.0|     9920.0|     52080.0|  true|Female|\n",
            "|   020|    Grace Kim| 32|53000.0|     7420.0|     45580.0|  true|  Male|\n",
            "+------+-------------+---+-------+-----------+------------+------+------+\n",
            "\n"
          ]
        }
      ]
    },
    {
      "cell_type": "code",
      "source": [
        "##rename all the column which is not start with emp except tax_amount"
      ],
      "metadata": {
        "id": "AU15BWmO__vi"
      },
      "execution_count": 91,
      "outputs": []
    },
    {
      "cell_type": "code",
      "source": [
        "all_emp_renamed = all_emp.selectExpr(*[\n",
        " f\"{col_name} as {col_name if col_name.startswith('emp') else f'emp_{col_name}'}\"\n",
        "    for col_name in all_emp.columns])"
      ],
      "metadata": {
        "id": "FReUDLa0AqON"
      },
      "execution_count": 119,
      "outputs": []
    },
    {
      "cell_type": "code",
      "source": [
        "all_emp_renamed.show()"
      ],
      "metadata": {
        "colab": {
          "base_uri": "https://localhost:8080/"
        },
        "id": "f9GVlRZtA-bq",
        "outputId": "2e392783-5356-4325-c035-090488ce30f9"
      },
      "execution_count": 120,
      "outputs": [
        {
          "output_type": "stream",
          "name": "stdout",
          "text": [
            "+------+-------------+-------+----------+---------------+----------------+----------+----------+\n",
            "|emp_id|     emp_name|emp_age|emp_salary|emp_tax_ammount|emp_gross_Salary|emp_active|emp_gender|\n",
            "+------+-------------+-------+----------+---------------+----------------+----------+----------+\n",
            "|   001|     John Doe|     30|   50000.0|         7000.0|         43000.0|      true|      Male|\n",
            "|   002|   Jane Smith|     25|   45000.0|            0.0|         45000.0|      true|      Male|\n",
            "|   003|    Bob Brown|     35|   55000.0|         7700.0|         47300.0|      true|    Female|\n",
            "|   004|    Alice Lee|     28|   48000.0|            0.0|         48000.0|      true|      Male|\n",
            "|   005|    Jack Chan|     40|   60000.0|         8400.0|         51600.0|      true|      Male|\n",
            "|   006|    Jill Wong|     32|   52000.0|         7280.0|         44720.0|      true|    Female|\n",
            "|   007|James Johnson|     42|   70000.0|        11200.0|         58800.0|      true|    Female|\n",
            "|   008|     Kate Kim|     29|   51000.0|         7140.0|         43860.0|      true|      Male|\n",
            "|   009|      Tom Tan|     33|   58000.0|         8120.0|         49880.0|      true|      Male|\n",
            "|   010|     Lisa Lee|     27|   47000.0|            0.0|         47000.0|      true|    Female|\n",
            "|   011|   David Park|     38|   65000.0|        10400.0|         54600.0|      true|      Male|\n",
            "|   012|   Susan Chen|     31|   54000.0|         7560.0|         46440.0|      true|      Male|\n",
            "|   013|    Brian Kim|     45|   75000.0|        12000.0|         63000.0|      true|    Female|\n",
            "|   014|    Emily Lee|     26|   46000.0|            0.0|         46000.0|      true|    Female|\n",
            "|   015|  Michael Lee|     37|   63000.0|        10080.0|         52920.0|      true|    Female|\n",
            "|   016|  Kelly Zhang|     30|   49000.0|            0.0|         49000.0|      true|      Male|\n",
            "|   017|  George Wang|     34|   57000.0|         7980.0|         49020.0|      true|      Male|\n",
            "|   018|    Nancy Liu|     29|   50000.0|         7000.0|         43000.0|      true|    Female|\n",
            "|   019|  Steven Chen|     36|   62000.0|         9920.0|         52080.0|      true|    Female|\n",
            "|   020|    Grace Kim|     32|   53000.0|         7420.0|         45580.0|      true|      Male|\n",
            "+------+-------------+-------+----------+---------------+----------------+----------+----------+\n",
            "\n"
          ]
        }
      ]
    },
    {
      "cell_type": "code",
      "source": [],
      "metadata": {
        "id": "lErWUfcjBZYw"
      },
      "execution_count": null,
      "outputs": []
    }
  ]
}